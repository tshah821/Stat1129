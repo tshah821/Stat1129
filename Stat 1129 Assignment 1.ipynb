{
 "cells": [
  {
   "cell_type": "code",
   "execution_count": 33,
   "id": "09c719e4",
   "metadata": {},
   "outputs": [
    {
     "data": {
      "text/plain": [
       "[65, 60, 55, 50, 45, 40, 35, 30]"
      ]
     },
     "execution_count": 33,
     "metadata": {},
     "output_type": "execute_result"
    }
   ],
   "source": [
    "#question 1#\n",
    "mylist = list(range(30,65,5))\n",
    "mylist"
   ]
  },
  {
   "cell_type": "code",
   "execution_count": 14,
   "id": "dc8959da",
   "metadata": {},
   "outputs": [
    {
     "data": {
      "text/plain": [
       "[60, 55, 50, 45, 40, 35, 30]"
      ]
     },
     "execution_count": 14,
     "metadata": {},
     "output_type": "execute_result"
    }
   ],
   "source": [
    "newlist = mylist[::-1]\n",
    "newlist"
   ]
  },
  {
   "cell_type": "code",
   "execution_count": 21,
   "id": "5e4201b3",
   "metadata": {},
   "outputs": [
    {
     "data": {
      "text/plain": [
       "[65, 60, 55, 50, 45, 40, 35, 30, 65, 65]"
      ]
     },
     "execution_count": 21,
     "metadata": {},
     "output_type": "execute_result"
    }
   ],
   "source": [
    "newlist.insert(0,65)\n",
    "newlist"
   ]
  },
  {
   "cell_type": "code",
   "execution_count": 62,
   "id": "b377fd29",
   "metadata": {},
   "outputs": [
    {
     "data": {
      "text/plain": [
       "[0, 1, 2, 3, 4, 5, 6, 7, 8, 9, 10, 11, 12, 13, 14, 15, 16, 17, 18, 19, 20]"
      ]
     },
     "execution_count": 62,
     "metadata": {},
     "output_type": "execute_result"
    }
   ],
   "source": [
    "#question 2#\n",
    "lists = []\n",
    "for i in range(0,21):\n",
    "    lists.append(i)\n",
    "lists"
   ]
  },
  {
   "cell_type": "code",
   "execution_count": 63,
   "id": "044f198e",
   "metadata": {},
   "outputs": [
    {
     "data": {
      "text/plain": [
       "20"
      ]
     },
     "execution_count": 63,
     "metadata": {},
     "output_type": "execute_result"
    }
   ],
   "source": [
    "lists.pop(0)\n",
    "len(lists)"
   ]
  },
  {
   "cell_type": "code",
   "execution_count": 64,
   "id": "fe164752",
   "metadata": {},
   "outputs": [
    {
     "name": "stdout",
     "output_type": "stream",
     "text": [
      "1\n",
      "20\n"
     ]
    }
   ],
   "source": [
    "print(lists[0])\n",
    "print(lists[19])"
   ]
  },
  {
   "cell_type": "code",
   "execution_count": 65,
   "id": "0a5d9cd8",
   "metadata": {},
   "outputs": [
    {
     "data": {
      "text/plain": [
       "210"
      ]
     },
     "execution_count": 65,
     "metadata": {},
     "output_type": "execute_result"
    }
   ],
   "source": [
    "sum(lists)"
   ]
  },
  {
   "cell_type": "code",
   "execution_count": 74,
   "id": "b351c530",
   "metadata": {},
   "outputs": [
    {
     "name": "stdout",
     "output_type": "stream",
     "text": [
      "When Sunny let us play\n",
      "When Rainy let us watch TV\n",
      "When Cloudy let us walk\n"
     ]
    }
   ],
   "source": [
    "#question 3#\n",
    "weatherdict = {\"Sunny\": \"play\", \"Rainy\": \"watch TV\", \"Cloudy\": \"walk\"}\n",
    "for k,v in weatherdict.items():\n",
    "    print(\"When\" ,k , \"let us\" , v)"
   ]
  },
  {
   "cell_type": "code",
   "execution_count": 76,
   "id": "7bbc26c5",
   "metadata": {},
   "outputs": [
    {
     "data": {
      "text/plain": [
       "{'Sunny': 'play', 'Rainy': 'watch TV', 'Cloudy': 'walk', 'Snowy': 'ski'}"
      ]
     },
     "execution_count": 76,
     "metadata": {},
     "output_type": "execute_result"
    }
   ],
   "source": [
    "weatherdict.update({\"Snowy\":\"ski\"})\n",
    "weatherdict"
   ]
  }
 ],
 "metadata": {
  "kernelspec": {
   "display_name": "Python 3 (ipykernel)",
   "language": "python",
   "name": "python3"
  },
  "language_info": {
   "codemirror_mode": {
    "name": "ipython",
    "version": 3
   },
   "file_extension": ".py",
   "mimetype": "text/x-python",
   "name": "python",
   "nbconvert_exporter": "python",
   "pygments_lexer": "ipython3",
   "version": "3.9.13"
  }
 },
 "nbformat": 4,
 "nbformat_minor": 5
}
