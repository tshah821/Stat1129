{
 "cells": [
  {
   "cell_type": "code",
   "execution_count": 5,
   "id": "bffa575a",
   "metadata": {},
   "outputs": [
    {
     "name": "stdout",
     "output_type": "stream",
     "text": [
      "Alex 22 185\n",
      "Bill 19 200\n"
     ]
    }
   ],
   "source": [
    "class Human:\n",
    "    arms = 2\n",
    "    fingers = 10\n",
    "    hair = \"black\"\n",
    "    eyes = \"brown\"\n",
    "    \n",
    "    def __init__(self,name,age,weight):\n",
    "        self.name = name\n",
    "        self.age = age\n",
    "        self.weight = weight\n",
    "        \n",
    "A = Human('Alex',22,185)\n",
    "B = Human('Bill',19,200)\n",
    "\n",
    "print(A.name,A.age,A.weight)\n",
    "\n",
    "print(B.name,B.age,B.weight)"
   ]
  },
  {
   "cell_type": "code",
   "execution_count": 16,
   "id": "94db8f23",
   "metadata": {},
   "outputs": [
    {
     "data": {
      "text/plain": [
       "13.0"
      ]
     },
     "execution_count": 16,
     "metadata": {},
     "output_type": "execute_result"
    }
   ],
   "source": [
    "class Point:\n",
    "    def __init__(self,x,y):\n",
    "        self.x = x\n",
    "        self.y = y\n",
    "\n",
    "    def distance(self):\n",
    "        dist = ((self.x)**2 + (self.y)**2)**0.5\n",
    "        return dist\n",
    "    \n",
    "P1 = Point(5,12)\n",
    "\n",
    "Point.distance(P1)"
   ]
  }
 ],
 "metadata": {
  "kernelspec": {
   "display_name": "Python 3 (ipykernel)",
   "language": "python",
   "name": "python3"
  },
  "language_info": {
   "codemirror_mode": {
    "name": "ipython",
    "version": 3
   },
   "file_extension": ".py",
   "mimetype": "text/x-python",
   "name": "python",
   "nbconvert_exporter": "python",
   "pygments_lexer": "ipython3",
   "version": "3.9.13"
  }
 },
 "nbformat": 4,
 "nbformat_minor": 5
}
