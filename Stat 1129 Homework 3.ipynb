{
 "cells": [
  {
   "cell_type": "code",
   "execution_count": 71,
   "id": "e2121798",
   "metadata": {},
   "outputs": [
    {
     "data": {
      "text/plain": [
       "90"
      ]
     },
     "execution_count": 71,
     "metadata": {},
     "output_type": "execute_result"
    }
   ],
   "source": [
    "#Question 1\n",
    "marks = {'Andy':86,'Amy':66,'James':90,'Jules':55,'Arthur':77}\n",
    "\n",
    "def grades(name):\n",
    "    return marks.get(name)\n",
    "\n",
    "grades('James')"
   ]
  },
  {
   "cell_type": "code",
   "execution_count": 81,
   "id": "f0f4931b",
   "metadata": {},
   "outputs": [
    {
     "name": "stdout",
     "output_type": "stream",
     "text": [
      "74.8\n"
     ]
    }
   ],
   "source": [
    "def average():\n",
    "    total = 0\n",
    "    for values in marks.values():\n",
    "        total = total + values\n",
    "    print(total/len(marks))\n",
    "average()"
   ]
  },
  {
   "cell_type": "code",
   "execution_count": 60,
   "id": "a87fb26c",
   "metadata": {},
   "outputs": [
    {
     "name": "stdout",
     "output_type": "stream",
     "text": [
      "1 1\n",
      "2 4\n",
      "3 9\n",
      "4 16\n",
      "5 25\n",
      "6 36\n",
      "7 49\n",
      "greater than 8\n"
     ]
    }
   ],
   "source": [
    "#Question 2\n",
    "def nsquares(num):\n",
    "    n = 1\n",
    "    while n < num:\n",
    "        print(n,n**2)\n",
    "        n=n+1\n",
    "    else:\n",
    "        print('greater than',num)\n",
    "nsquares(8)"
   ]
  },
  {
   "cell_type": "code",
   "execution_count": 12,
   "id": "89286a90",
   "metadata": {},
   "outputs": [
    {
     "name": "stdout",
     "output_type": "stream",
     "text": [
      "66\n"
     ]
    }
   ],
   "source": [
    "#Question 3\n",
    "def sums(num):\n",
    "    total = 0\n",
    "    i=1\n",
    "    while i in range(num+1):\n",
    "        total = total + i\n",
    "        i=i+1\n",
    "    print(total)\n",
    "\n",
    "sums(11)"
   ]
  },
  {
   "cell_type": "code",
   "execution_count": 54,
   "id": "61d58d9c",
   "metadata": {},
   "outputs": [
    {
     "name": "stdout",
     "output_type": "stream",
     "text": [
      "0\n",
      "1\n",
      "3\n",
      "6\n",
      "10\n",
      "15\n",
      "21\n",
      "28\n",
      "36\n",
      "45\n",
      "55\n",
      "66\n"
     ]
    }
   ],
   "source": [
    "#Question 4\n",
    "def stepsums(num):\n",
    "    total = 0\n",
    "    i=1\n",
    "    for i in range(num+1):\n",
    "        total = total + i\n",
    "        print(total)\n",
    "\n",
    "stepsums(11)"
   ]
  },
  {
   "cell_type": "code",
   "execution_count": 58,
   "id": "1b62023c",
   "metadata": {},
   "outputs": [
    {
     "name": "stdout",
     "output_type": "stream",
     "text": [
      "sum is 4950\n",
      "mean is 50.0\n",
      "standard deviation is 28.577380332470412\n"
     ]
    }
   ],
   "source": [
    "#Question 5\n",
    "import statistics\n",
    "def stats(lists):\n",
    "    print('sum is', sum(lists))\n",
    "    \n",
    "    avg = sum(lists)/len(lists)\n",
    "    print ('mean is', avg)\n",
    "    \n",
    "    total = 0\n",
    "    for i in lists:\n",
    "        total = (i-avg)**2 + total\n",
    "    std = (total/len(lists))**0.5\n",
    "    print('standard deviation is', std)\n",
    "\n",
    "arg = list(range(1,100))\n",
    "stats(arg)"
   ]
  },
  {
   "cell_type": "code",
   "execution_count": 22,
   "id": "d993b22b",
   "metadata": {},
   "outputs": [
    {
     "data": {
      "text/plain": [
       "2"
      ]
     },
     "execution_count": 22,
     "metadata": {},
     "output_type": "execute_result"
    }
   ],
   "source": [
    "#Question 6\n",
    "def minimal(v1,v2,v3,v4):\n",
    "    mylist = [v1,v2,v3,v4]\n",
    "    minimal = v1\n",
    "    for i in mylist:\n",
    "        if i<minimal:\n",
    "            minimal = i\n",
    "    return minimal\n",
    "\n",
    "minimal(17,2,10,3)"
   ]
  },
  {
   "cell_type": "code",
   "execution_count": 32,
   "id": "8d4281c6",
   "metadata": {},
   "outputs": [
    {
     "name": "stdout",
     "output_type": "stream",
     "text": [
      "this is my cat function\n"
     ]
    }
   ],
   "source": [
    "#Question 7\n",
    "def cat(str1,str2,str3):\n",
    "    print(str1 , str2 , str3)\n",
    "    \n",
    "cat('this is', 'my cat', 'function')"
   ]
  }
 ],
 "metadata": {
  "kernelspec": {
   "display_name": "Python 3 (ipykernel)",
   "language": "python",
   "name": "python3"
  },
  "language_info": {
   "codemirror_mode": {
    "name": "ipython",
    "version": 3
   },
   "file_extension": ".py",
   "mimetype": "text/x-python",
   "name": "python",
   "nbconvert_exporter": "python",
   "pygments_lexer": "ipython3",
   "version": "3.9.13"
  }
 },
 "nbformat": 4,
 "nbformat_minor": 5
}
