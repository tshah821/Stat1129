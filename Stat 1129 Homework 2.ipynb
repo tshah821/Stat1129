{
 "cells": [
  {
   "cell_type": "code",
   "execution_count": 2,
   "id": "cdd9d200",
   "metadata": {},
   "outputs": [
    {
     "name": "stdout",
     "output_type": "stream",
     "text": [
      "0\n",
      "1\n",
      "2\n",
      "3\n",
      "4\n"
     ]
    }
   ],
   "source": [
    "#Question 1\n",
    "n = 0\n",
    "while n < 10:\n",
    "    print(n)\n",
    "    n+=1\n",
    "    if n==5:\n",
    "        break"
   ]
  },
  {
   "cell_type": "code",
   "execution_count": 4,
   "id": "5bb661e5",
   "metadata": {},
   "outputs": [
    {
     "name": "stdout",
     "output_type": "stream",
     "text": [
      "0\n",
      "1\n",
      "2\n",
      "3\n",
      "4\n",
      "5 is not less than 5\n"
     ]
    }
   ],
   "source": [
    "#Question 2\n",
    "n = 0\n",
    "while n < 5:\n",
    "    print(n)\n",
    "    n+=1\n",
    "else:\n",
    "    print(n,\"is not less than 5\")"
   ]
  },
  {
   "cell_type": "code",
   "execution_count": 7,
   "id": "199dea4f",
   "metadata": {},
   "outputs": [
    {
     "name": "stdout",
     "output_type": "stream",
     "text": [
      "I like orange\n",
      "I like banana\n",
      "I like pear\n",
      "I like mango\n",
      "I like apple\n",
      "apple is really a fruit?\n"
     ]
    }
   ],
   "source": [
    "#Question 3\n",
    "fruitlist = [\"orange\",\"banana\",\"pear\",\"mango\",\"apple\"]\n",
    "for i in fruitlist:\n",
    "    print(\"I like\",i)\n",
    "    if i == fruitlist[4]:\n",
    "        print(i,\"is really a fruit?\")"
   ]
  },
  {
   "cell_type": "code",
   "execution_count": 10,
   "id": "29dcf842",
   "metadata": {},
   "outputs": [
    {
     "name": "stdout",
     "output_type": "stream",
     "text": [
      "465\n"
     ]
    }
   ],
   "source": [
    "#Question 4\n",
    "sums = 0\n",
    "i = 0\n",
    "while i<31:\n",
    "    sums = sums+i\n",
    "    i+=1\n",
    "print(sums)"
   ]
  },
  {
   "cell_type": "code",
   "execution_count": 21,
   "id": "f8e71da5",
   "metadata": {},
   "outputs": [
    {
     "name": "stdout",
     "output_type": "stream",
     "text": [
      "F\n"
     ]
    }
   ],
   "source": [
    "#Question 5\n",
    "grade = 55\n",
    "if grade >=90:\n",
    "    print(\"A\")\n",
    "elif grade >=80:\n",
    "    print(\"B\")\n",
    "elif grade >=70:\n",
    "    print(\"C\")\n",
    "elif grade >=60:\n",
    "    print(\"D\")\n",
    "else:\n",
    "    print(\"F\")"
   ]
  },
  {
   "cell_type": "code",
   "execution_count": 25,
   "id": "42fada18",
   "metadata": {},
   "outputs": [
    {
     "name": "stdout",
     "output_type": "stream",
     "text": [
      "Andy 88\n",
      "Amy 66\n",
      "James 90\n",
      "Jules 55\n",
      "Arthur 77\n"
     ]
    }
   ],
   "source": [
    "#Question 6\n",
    "marks = {'Andy':88,'Amy':66,'James':90,'Jules':55,'Arthur':77}\n",
    "for k,v in marks.items():\n",
    "    print(k,v)"
   ]
  },
  {
   "cell_type": "code",
   "execution_count": 27,
   "id": "bba40b1a",
   "metadata": {},
   "outputs": [
    {
     "name": "stdout",
     "output_type": "stream",
     "text": [
      "75.2\n",
      "max value is 90\n",
      "mim value is 55\n"
     ]
    }
   ],
   "source": [
    "sum_marks = sum(marks.values())\n",
    "marks_avg = sum_marks/len(marks)\n",
    "print(marks_avg)\n",
    "print(\"max value is\",max(marks.values()))\n",
    "print(\"mim value is\",min(marks.values()))"
   ]
  },
  {
   "cell_type": "code",
   "execution_count": 79,
   "id": "5866a638",
   "metadata": {
    "scrolled": true
   },
   "outputs": [
    {
     "name": "stdout",
     "output_type": "stream",
     "text": [
      "Andy\n",
      "Amy\n"
     ]
    }
   ],
   "source": [
    "for k in marks.keys():\n",
    "    letter = k.find('J')\n",
    "    if letter==False:\n",
    "        break\n",
    "    else:\n",
    "        print(k)"
   ]
  },
  {
   "cell_type": "code",
   "execution_count": 80,
   "id": "c8f82ed0",
   "metadata": {},
   "outputs": [
    {
     "name": "stdout",
     "output_type": "stream",
     "text": [
      "Andy\n",
      "Amy\n",
      "Arthur\n"
     ]
    }
   ],
   "source": [
    "for k in marks.keys():\n",
    "    letter = k.find('J')\n",
    "    if letter==False:\n",
    "        continue\n",
    "    else:\n",
    "        print(k)"
   ]
  }
 ],
 "metadata": {
  "kernelspec": {
   "display_name": "Python 3 (ipykernel)",
   "language": "python",
   "name": "python3"
  },
  "language_info": {
   "codemirror_mode": {
    "name": "ipython",
    "version": 3
   },
   "file_extension": ".py",
   "mimetype": "text/x-python",
   "name": "python",
   "nbconvert_exporter": "python",
   "pygments_lexer": "ipython3",
   "version": "3.9.13"
  }
 },
 "nbformat": 4,
 "nbformat_minor": 5
}
